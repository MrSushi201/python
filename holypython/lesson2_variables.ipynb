{
 "cells": [
  {
   "cell_type": "markdown",
   "metadata": {},
   "source": [
    "# Lesson 2: variables"
   ]
  },
  {
   "cell_type": "markdown",
   "metadata": {},
   "source": [
    "Lesson 2: variables\n",
    "Variables contain data. So, you can call them later. \n",
    "This makes data reusable, recallable, re-assignable et cetera. \n",
    "It is crucial to understand variables. \n",
    "Simplest definition of a variable is a \"named container\" of data you would like to refer to in your program. \n",
    "It is hard to imagine programming without variables as we use them to identify and refer to data of different sizes, types, and shapes. \n",
    "Let us try to understand the step-by-step:\n",
    "    \n",
    "    1. First, a variable with a name is created. \n",
    "    And then, an integer object with a value is assigned to the variable as its value. \n",
    "    Vice versa, an integer object with a value is created. \n",
    "    And later, assigned to a variable with a name.\n",
    "    \"value\" -> \"variable\" # Read as an object is assigned with a variable name.\n",
    "    \"variable\" -> \"value\" # Read as a variable name is assigned to an object.\n",
    "\n",
    "    2. A new value is assigned to the variable, and now, it has a new value. \n",
    "    Also, the old value is lost."
   ]
  },
  {
   "cell_type": "code",
   "execution_count": 6,
   "metadata": {},
   "outputs": [
    {
     "name": "stdout",
     "output_type": "stream",
     "text": [
      "value\n",
      "[1, 0, 0] [0, 1, 0] [0, 0, 1]\n"
     ]
    }
   ],
   "source": [
    "# Example on how to store object(s) to variable(s)\n",
    "var = \"value\" # var -> \"value\"\n",
    "print(var)\n",
    "i, j, k = [1, 0, 0], [0, 1, 0], [0, 0, 1]\n",
    "print(i, j, k)"
   ]
  },
  {
   "cell_type": "code",
   "execution_count": 7,
   "metadata": {},
   "outputs": [
    {
     "name": "stdout",
     "output_type": "stream",
     "text": [
      "I drank 3 glasses of water everyday.\n",
      "140717786778104\n",
      "140717786778136\n"
     ]
    }
   ],
   "source": [
    "# Exercise 2-a: Mix number and text inside the print()-function\n",
    "glass_of_water = 3\n",
    "print(\"I drank\", glass_of_water, \"glasses of water everyday.\")\n",
    "\n",
    "# Exercise 2-b: Assign a new value to an existing variable\n",
    "glass_of_water = 3\n",
    "print(id(glass_of_water))\n",
    "glass_of_water = glass_of_water + 1\n",
    "print(id(glass_of_water))"
   ]
  }
 ],
 "metadata": {
  "kernelspec": {
   "display_name": "Python 3",
   "language": "python",
   "name": "python3"
  },
  "language_info": {
   "codemirror_mode": {
    "name": "ipython",
    "version": 3
   },
   "file_extension": ".py",
   "mimetype": "text/x-python",
   "name": "python",
   "nbconvert_exporter": "python",
   "pygments_lexer": "ipython3",
   "version": "3.12.0"
  }
 },
 "nbformat": 4,
 "nbformat_minor": 2
}
