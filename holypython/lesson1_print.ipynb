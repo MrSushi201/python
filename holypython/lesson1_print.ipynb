{
 "cells": [
  {
   "cell_type": "markdown",
   "metadata": {},
   "source": [
    "# Lesson 1: print()"
   ]
  },
  {
   "cell_type": "markdown",
   "metadata": {},
   "source": [
    "The print()-function is used to display data and information to the user. It can be used to check values, variables, make reminders, or show messages to the user or the programmer at different stages of the coding process. "
   ]
  },
  {
   "cell_type": "code",
   "execution_count": 2,
   "metadata": {},
   "outputs": [
    {
     "name": "stdout",
     "output_type": "stream",
     "text": [
      "Hello, World!\n",
      "Value1 Value2 Value3\n",
      "Hello, world!\n"
     ]
    }
   ],
   "source": [
    "# The most common programming ritual in all programming languages\n",
    "print(\"Hello, World!\")\n",
    "\n",
    "# Advanced concepts - printing with commas\n",
    "print(\"Value1\", \"Value2\", \"Value3\")\n",
    "\n",
    "# Advanced concepts - using \"sep\" and \"end\" parameters\n",
    "print(\"Hello, world!\", sep = \" \", end = \"\\n\") # default"
   ]
  },
  {
   "cell_type": "code",
   "execution_count": 3,
   "metadata": {},
   "outputs": [
    {
     "name": "stdout",
     "output_type": "stream",
     "text": [
      "Hello, World!\n",
      "Hello, World!\n",
      "Value1 Value2 Value3\n",
      "My name is Santi .\n"
     ]
    }
   ],
   "source": [
    "# Exercise 1-a: print \"Hello, World!\"\n",
    "print(\"Hello, World!\")\n",
    "\n",
    "# Exercise 1-b: Assign \"Hello, World!\" to a variable, and print it\n",
    "str = \"Hello, World!\"\n",
    "print(str)\n",
    "\n",
    "# Exercise 1-c: Concatenate different data pieces with print()-function and commas\n",
    "print(\"Value1\", \"Value2\", \"Value3\")\n",
    "var1 = \"My\"\n",
    "var2 = \"name\"\n",
    "var3 = \"is\"\n",
    "var4 = \"Santi\"\n",
    "var5 = \".\"\n",
    "print(var1, var2, var3, var4, var5)"
   ]
  }
 ],
 "metadata": {
  "kernelspec": {
   "display_name": "Python 3",
   "language": "python",
   "name": "python3"
  },
  "language_info": {
   "codemirror_mode": {
    "name": "ipython",
    "version": 3
   },
   "file_extension": ".py",
   "mimetype": "text/x-python",
   "name": "python",
   "nbconvert_exporter": "python",
   "pygments_lexer": "ipython3",
   "version": "3.12.0"
  }
 },
 "nbformat": 4,
 "nbformat_minor": 2
}
